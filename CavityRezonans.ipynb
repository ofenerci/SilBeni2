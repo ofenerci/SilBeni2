{
 "cells": [
  {
   "cell_type": "markdown",
   "metadata": {},
   "source": [
    "# Bir Şişenin Resonanz Frekansının Deneysel Olarak Hesaplanması"
   ]
  },
  {
   "cell_type": "markdown",
   "metadata": {},
   "source": [
    "##Giriş\n",
    "Bir kısmı suyla dolu olan bir şişenin ağız kısmına üflendiğinde ses çıkar. Şişenin içindeki suya boşaltıkça, çıkan sesin frekansı azalır. \n",
    "\n"
   ]
  },
  {
   "cell_type": "markdown",
   "metadata": {},
   "source": [
    "##Yöntem\n",
    "\n",
    "1. ExpEYES deney seti microfon çıkışına şişenin ağız kısmı yerleştirilir.\n",
    "\n",
    "2. Şişenin ağzına üflendiğinde, oskilloskope ekranında ortaya çıkan dalganın en yüksek genlikli bileşeni bulunur. Bunun için ekrandaki dalganın *Fourier Dönüşümü* yapılır. Hangi kanalda ölçüm yapılıyorsa, o kanal ExpEYES menüsündeki FTR'ye sürüklenir. En yüksek genlikli titreşimini frekansı kaydedilir.\n",
    "\n",
    "3. Bu işlem içinde farklı hacimlerde su bulunan şişe için yapıldığında aşağıdaki veri elde edilir. "
   ]
  },
  {
   "cell_type": "markdown",
   "metadata": {},
   "source": [
    "##Sonuçlar\n",
    "\n",
    "|Hacim (ml) | Frekans (Hz)|\n",
    "|-----------|-------------|\n",
    "| 75 | 489 |\n",
    "| 100 | 405 |\n",
    "| 125 | 389 |\n",
    "| 150 | 352 |\n",
    "| 175 | 339 |\n",
    "| 200 | 327 |\n",
    "| 225 | 294 |\n"
   ]
  },
  {
   "cell_type": "code",
   "execution_count": 32,
   "metadata": {
    "collapsed": false
   },
   "outputs": [
    {
     "data": {
      "image/png": "[encoded data removed]",
      "text/plain": [
       "<matplotlib.figure.Figure at 0x7f2d5a915090>"
      ]
     },
     "metadata": {},
     "output_type": "display_data"
    }
   ],
   "source": [
    "%matplotlib inline\n",
    "# Yukarıdaki veriler SiseRezonans.txt dosyasında kaydedilmiştir. \n",
    "# numpy modülünü kullanarak, bu dosya içindeki veriler data içine \n",
    "# 2-boyut olarak kaydedilir. \n",
    "import numpy as np\n",
    "import pylab as pl\n",
    "data = np.loadtxt('SiseRezonans.txt')\n",
    "\n",
    "#ilk sütunu x, ikinci sütunu y olarak kaydet.\n",
    "SqHacim = 1.0/np.sqrt(data[:,1])\n",
    "freq = data[:,0]\n",
    "pl.plot( 1.0/np.sqrt(data[:,1]), data[:,0],'ro')\n",
    "pl.xlabel('Hacim')\n",
    "pl.ylabel('Frekans')\n",
    "pl.show()"
   ]
  },
  {
   "cell_type": "code",
   "execution_count": 34,
   "metadata": {
    "collapsed": false
   },
   "outputs": [],
   "source": [
    "m,b = np.polyfit(SqHacim,freq,1)"
   ]
  },
  {
   "cell_type": "code",
   "execution_count": 38,
   "metadata": {
    "collapsed": false
   },
   "outputs": [
    {
     "data": {
      "text/plain": [
       "[<matplotlib.lines.Line2D at 0x7f2d5a93df10>,\n",
       " <matplotlib.lines.Line2D at 0x7f2d5a163a90>]"
      ]
     },
     "execution_count": 38,
     "metadata": {},
     "output_type": "execute_result"
    },
    {
     "data": {
      "image/png": "[encoded data removed]",
      "text/plain": [
       "<matplotlib.figure.Figure at 0x7f2d5a163f90>"
      ]
     },
     "metadata": {},
     "output_type": "display_data"
    }
   ],
   "source": [
    "pl.plot(SqHacim,freq,'yo',SqHacim,m*SqHacim+b, '--k')"
   ]
  },
  {
   "cell_type": "code",
   "execution_count": 39,
   "metadata": {
    "collapsed": false
   },
   "outputs": [
    {
     "data": {
      "text/plain": [
       "3641.3993567265106"
      ]
     },
     "execution_count": 39,
     "metadata": {},
     "output_type": "execute_result"
    }
   ],
   "source": [
    "m"
   ]
  },
  {
   "cell_type": "code",
   "execution_count": 40,
   "metadata": {
    "collapsed": false
   },
   "outputs": [
    {
     "data": {
      "text/plain": [
       "58.837445657698666"
      ]
     },
     "execution_count": 40,
     "metadata": {},
     "output_type": "execute_result"
    }
   ],
   "source": [
    "b"
   ]
  },
  {
   "cell_type": "code",
   "execution_count": null,
   "metadata": {
    "collapsed": true
   },
   "outputs": [],
   "source": []
  }
 ],
 "metadata": {
  "kernelspec": {
   "display_name": "Python 2",
   "language": "python",
   "name": "python2"
  },
  "language_info": {
   "codemirror_mode": {
    "name": "ipython",
    "version": 2
   },
   "file_extension": ".py",
   "mimetype": "text/x-python",
   "name": "python",
   "nbconvert_exporter": "python",
   "pygments_lexer": "ipython2",
   "version": "2.7.10"
  }
 },
 "nbformat": 4,
 "nbformat_minor": 0
}
